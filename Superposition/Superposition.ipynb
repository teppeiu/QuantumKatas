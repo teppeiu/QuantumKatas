{
 "cells": [
  {
   "cell_type": "markdown",
   "metadata": {},
   "source": [
    "# Superposition Kata\n",
    "\n",
    "**Superposition** quantum kata is a series of exercises designed\n",
    "to get you familiar with the concept of superposition and with programming in Q#.\n",
    "It covers the following topics:\n",
    "* basic single-qubit and multi-qubit gates,\n",
    "* superposition,\n",
    "* flow control and recursion in Q#.\n",
    "\n",
    "It is recommended to complete the [BasicGates kata](./../BasicGates/BasicGates.ipynb) before this one to get familiar with the basic gates used in quantum computing. The list of basic gates available in Q# can be found at [Microsoft.Quantum.Intrinsic](https://docs.microsoft.com/qsharp/api/qsharp/microsoft.quantum.intrinsic).\n",
    "\n",
    "Each task is wrapped in one operation preceded by the description of the task.\n",
    "Your goal is to fill in the blank (marked with `// ...` comments)\n",
    "with some Q# code that solves the task. To verify your answer, run the cell using Ctrl/⌘+Enter.\n",
    "\n",
    "The tasks are given in approximate order of increasing difficulty; harder ones are marked with asterisks."
   ]
  },
  {
   "cell_type": "markdown",
   "metadata": {},
   "source": [
    "To begin, first prepare this notebook for execution (if you skip this step, you'll get \"Syntax does not match any known patterns\" error when you try to execute Q# code in the next cells):"
   ]
  },
  {
   "cell_type": "code",
   "execution_count": 1,
   "metadata": {},
   "outputs": [
    {
     "data": {
      "application/json": "[\"Microsoft.Quantum.Standard::0.10.1911.1607\",\"Microsoft.Quantum.Katas::0.10.1911.1607\"]",
      "text/html": [
       "<ul><li>Microsoft.Quantum.Standard::0.10.1911.1607</li><li>Microsoft.Quantum.Katas::0.10.1911.1607</li></ul>"
      ],
      "text/plain": [
       "Microsoft.Quantum.Standard::0.10.1911.1607, Microsoft.Quantum.Katas::0.10.1911.1607"
      ]
     },
     "execution_count": 1,
     "metadata": {},
     "output_type": "execute_result"
    }
   ],
   "source": [
    "%package Microsoft.Quantum.Katas::0.10.1911.1607"
   ]
  },
  {
   "cell_type": "markdown",
   "metadata": {},
   "source": [
    "> The package versions in the output of the cell above should always match. If you are running the Notebooks locally and the versions do not match, please install the IQ# version that matches the version of the `Microsoft.Quantum.Katas` package.\n",
    "> <details>\n",
    "> <summary><u>How to install the right IQ# version</u></summary>\n",
    "> For example, if the version of `Microsoft.Quantum.Katas` package above is 0.1.2.3, the installation steps are as follows:\n",
    ">\n",
    "> 1. Stop the kernel.\n",
    "> 2. Uninstall the existing version of IQ#:\n",
    ">        dotnet tool uninstall microsoft.quantum.iqsharp -g\n",
    "> 3. Install the matching version:\n",
    ">        dotnet tool install microsoft.quantum.iqsharp -g --version 0.1.2.3\n",
    "> 4. Reinstall the kernel:\n",
    ">        dotnet iqsharp install\n",
    "> 5. Restart the Notebook.\n",
    "> </details>\n"
   ]
  },
  {
   "cell_type": "markdown",
   "metadata": {},
   "source": [
    "### <a name=\"plus-state\"></a> Task 1. Plus state.\n",
    "\n",
    "**Input:** A qubit in the $|0\\rangle$ state.\n",
    "\n",
    "**Goal:**  Change the state of the qubit to $|+\\rangle = \\frac{1}{\\sqrt{2}} \\big(|0\\rangle + |1\\rangle\\big)$."
   ]
  },
  {
   "cell_type": "code",
   "execution_count": 2,
   "metadata": {},
   "outputs": [
    {
     "name": "stdout",
     "output_type": "stream",
     "text": [
      "The desired state:\n",
      "# wave function for qubits with ids (least to most significant): 0\n",
      "∣0❭:\t 0.707107 +  0.000000 i\t == \t***********          [ 0.500000 ]     --- [  0.00000 rad ]\n",
      "∣1❭:\t 0.707107 +  0.000000 i\t == \t***********          [ 0.500000 ]     --- [  0.00000 rad ]\n",
      "The actual state:\n",
      "# wave function for qubits with ids (least to most significant): 0\n",
      "∣0❭:\t 0.707107 +  0.000000 i\t == \t***********          [ 0.500000 ]     --- [  0.00000 rad ]\n",
      "∣1❭:\t 0.707107 +  0.000000 i\t == \t***********          [ 0.500000 ]     --- [  0.00000 rad ]\n",
      "Test case passed\n"
     ]
    },
    {
     "data": {
      "application/json": "\"Success!\"",
      "text/plain": [
       "Success!"
      ]
     },
     "execution_count": 2,
     "metadata": {},
     "output_type": "execute_result"
    }
   ],
   "source": [
    "%kata T01_PlusState_Test \n",
    "\n",
    "operation PlusState (q : Qubit) : Unit {\n",
    "    // Hadamard gate H will convert |0⟩ state to |+⟩ state.\n",
    "    // Type the following: H(q);\n",
    "    // Then run the cell using Ctrl/⌘+Enter.\n",
    "    H(q);\n",
    "    // ...\n",
    "}"
   ]
  },
  {
   "cell_type": "markdown",
   "metadata": {},
   "source": [
    "*Can't come up with a solution? See the explained solution in the [Superposition Workbook](./Workbook_Superposition.ipynb#plus-state).*"
   ]
  },
  {
   "cell_type": "markdown",
   "metadata": {},
   "source": [
    "### <a name=\"minus-state\"></a>  Task 2. Minus state.\n",
    "\n",
    "**Input**: A qubit in the $|0\\rangle$ state.\n",
    "\n",
    "**Goal**:  Change the state of the qubit to $|-\\rangle = \\frac{1}{\\sqrt{2}} \\big(|0\\rangle - |1\\rangle\\big)$."
   ]
  },
  {
   "cell_type": "code",
   "execution_count": 3,
   "metadata": {},
   "outputs": [
    {
     "name": "stdout",
     "output_type": "stream",
     "text": [
      "The desired state:\n",
      "# wave function for qubits with ids (least to most significant): 0\n",
      "∣0❭:\t 0.707107 +  0.000000 i\t == \t***********          [ 0.500000 ]     --- [  0.00000 rad ]\n",
      "∣1❭:\t-0.707107 +  0.000000 i\t == \t***********          [ 0.500000 ] ---     [  3.14159 rad ]\n",
      "The actual state:\n",
      "# wave function for qubits with ids (least to most significant): 0\n",
      "∣0❭:\t 0.707107 +  0.000000 i\t == \t***********          [ 0.500000 ]     --- [  0.00000 rad ]\n",
      "∣1❭:\t-0.707107 +  0.000000 i\t == \t***********          [ 0.500000 ] ---     [  3.14159 rad ]\n",
      "Test case passed\n"
     ]
    },
    {
     "data": {
      "application/json": "\"Success!\"",
      "text/plain": [
       "Success!"
      ]
     },
     "execution_count": 3,
     "metadata": {},
     "output_type": "execute_result"
    }
   ],
   "source": [
    "%kata T02_MinusState_Test \n",
    "\n",
    "operation MinusState (q : Qubit) : Unit {\n",
    "    // ...\n",
    "    X(q);\n",
    "    H(q);\n",
    "}"
   ]
  },
  {
   "cell_type": "markdown",
   "metadata": {},
   "source": [
    "*Can't come up with a solution? See the explained solution in the [Superposition Workbook](./Workbook_Superposition.ipynb#minus-state).*"
   ]
  },
  {
   "cell_type": "markdown",
   "metadata": {},
   "source": [
    "### <a name=\"unequal-superposition\"></a>  Task 3*. Unequal superposition.\n",
    "\n",
    "**Inputs:**\n",
    "\n",
    "1. A qubit in the $|0\\rangle$ state.\n",
    "2. Angle $\\alpha$, in radians, represented as `Double`.\n",
    "\n",
    "**Goal** : Change the state of the qubit to $\\cos{α} |0\\rangle + \\sin{α} |1\\rangle$.\n",
    "\n",
    "<br/>\n",
    "<details>\n",
    "  <summary><b>Need a hint? Click here</b></summary>\n",
    "  Experiment with rotation gates from Microsoft.Quantum.Intrinsic namespace.\n",
    "  Note that all rotation operators rotate the state by <i>half</i> of its angle argument.\n",
    "</details>"
   ]
  },
  {
   "cell_type": "code",
   "execution_count": 4,
   "metadata": {},
   "outputs": [
    {
     "name": "stdout",
     "output_type": "stream",
     "text": [
      "The desired state for α = 0.5 π\n",
      "# wave function for qubits with ids (least to most significant): 0\n",
      "∣0❭:\t 0.000000 +  0.000000 i\t == \t                     [ 0.000000 ]                   \n",
      "∣1❭:\t 1.000000 +  0.000000 i\t == \t******************** [ 1.000000 ]     --- [  0.00000 rad ]\n",
      "The actual state:\n",
      "# wave function for qubits with ids (least to most significant): 0\n",
      "∣0❭:\t 0.000000 +  0.000000 i\t == \t*                    [ 0.000000 ]     --- [  0.00000 rad ]\n",
      "∣1❭:\t 1.000000 +  0.000000 i\t == \t******************** [ 1.000000 ]     --- [  0.00000 rad ]\n",
      "Test case passed\n",
      "The desired state for α = 0.25 π\n",
      "# wave function for qubits with ids (least to most significant): 0\n",
      "∣0❭:\t 0.707107 +  0.000000 i\t == \t***********          [ 0.500000 ]     --- [  0.00000 rad ]\n",
      "∣1❭:\t 0.707107 +  0.000000 i\t == \t***********          [ 0.500000 ]     --- [  0.00000 rad ]\n",
      "The actual state:\n",
      "# wave function for qubits with ids (least to most significant): 0\n",
      "∣0❭:\t 0.707107 +  0.000000 i\t == \t***********          [ 0.500000 ]     --- [  0.00000 rad ]\n",
      "∣1❭:\t 0.707107 +  0.000000 i\t == \t**********           [ 0.500000 ]     --- [  0.00000 rad ]\n",
      "Test case passed\n",
      "The desired state for α = 0.75 π\n",
      "# wave function for qubits with ids (least to most significant): 0\n",
      "∣0❭:\t 0.707107 +  0.000000 i\t == \t***********          [ 0.500000 ]     --- [  0.00000 rad ]\n",
      "∣1❭:\t-0.707107 +  0.000000 i\t == \t***********          [ 0.500000 ] ---     [  3.14159 rad ]\n",
      "The actual state:\n",
      "# wave function for qubits with ids (least to most significant): 0\n",
      "∣0❭:\t 0.707107 +  0.000000 i\t == \t**********           [ 0.500000 ]     --- [  0.00000 rad ]\n",
      "∣1❭:\t-0.707107 +  0.000000 i\t == \t***********          [ 0.500000 ] ---     [  3.14159 rad ]\n",
      "Test case passed\n",
      "Testing on hidden test cases...\n"
     ]
    },
    {
     "data": {
      "application/json": "\"Success!\"",
      "text/plain": [
       "Success!"
      ]
     },
     "execution_count": 4,
     "metadata": {},
     "output_type": "execute_result"
    }
   ],
   "source": [
    "%kata T03_UnequalSuperposition_Test \n",
    "\n",
    "operation UnequalSuperposition (q : Qubit, alpha : Double) : Unit {\n",
    "    // ...\n",
    "    Ry(2.0 * alpha, q);\n",
    "}"
   ]
  },
  {
   "cell_type": "markdown",
   "metadata": {},
   "source": [
    "*Can't come up with a solution? See the explained solution in the [Superposition Workbook](./Workbook_Superposition.ipynb#unequal-superposition).*"
   ]
  },
  {
   "cell_type": "markdown",
   "metadata": {},
   "source": [
    "### <a name=\"superposition-of-all-basis-vectors-on-two-qubits\"></a>Task 4. Superposition of all basis vectors on two qubits.\n",
    "\n",
    "**Input:** Two qubits in the $|00\\rangle$ state (stored in an array of length 2).\n",
    "\n",
    "**Goal:**  Change the state of the qubits to $|+\\rangle \\otimes |+\\rangle = \\frac{1}{2} \\big(|00\\rangle + |01\\rangle + |10\\rangle + |11\\rangle\\big)$."
   ]
  },
  {
   "cell_type": "code",
   "execution_count": 5,
   "metadata": {},
   "outputs": [
    {
     "name": "stdout",
     "output_type": "stream",
     "text": [
      "The desired state:\n",
      "# wave function for qubits with ids (least to most significant): 0;1\n",
      "∣0❭:\t 0.500000 +  0.000000 i\t == \t******               [ 0.250000 ]     --- [  0.00000 rad ]\n",
      "∣1❭:\t 0.500000 +  0.000000 i\t == \t******               [ 0.250000 ]     --- [  0.00000 rad ]\n",
      "∣2❭:\t 0.500000 +  0.000000 i\t == \t******               [ 0.250000 ]     --- [  0.00000 rad ]\n",
      "∣3❭:\t 0.500000 +  0.000000 i\t == \t******               [ 0.250000 ]     --- [  0.00000 rad ]\n",
      "The actual state:\n",
      "# wave function for qubits with ids (least to most significant): 0;1\n",
      "∣0❭:\t 0.500000 +  0.000000 i\t == \t******               [ 0.250000 ]     --- [  0.00000 rad ]\n",
      "∣1❭:\t 0.500000 +  0.000000 i\t == \t******               [ 0.250000 ]     --- [  0.00000 rad ]\n",
      "∣2❭:\t 0.500000 +  0.000000 i\t == \t******               [ 0.250000 ]     --- [  0.00000 rad ]\n",
      "∣3❭:\t 0.500000 +  0.000000 i\t == \t******               [ 0.250000 ]     --- [  0.00000 rad ]\n",
      "Test case passed\n"
     ]
    },
    {
     "data": {
      "application/json": "\"Success!\"",
      "text/plain": [
       "Success!"
      ]
     },
     "execution_count": 5,
     "metadata": {},
     "output_type": "execute_result"
    }
   ],
   "source": [
    "%kata T04_AllBasisVectors_TwoQubits_Test\n",
    "\n",
    "operation AllBasisVectors_TwoQubits (qs : Qubit[]) : Unit {\n",
    "    // ...\n",
    "    H(qs[0]);\n",
    "    H(qs[1]);\n",
    "}"
   ]
  },
  {
   "cell_type": "markdown",
   "metadata": {},
   "source": [
    "*Can't come up with a solution? See the explained solution in the [Superposition Workbook](./Workbook_Superposition.ipynb#superposition-of-all-basis-vectors-on-two-qubits).*"
   ]
  },
  {
   "cell_type": "markdown",
   "metadata": {},
   "source": [
    "### <a name=\"superposition-of-basis-vectors-with-phases\"></a>Task 5. Superposition of basis vectors with phases.\n",
    "\n",
    "**Input:** Two qubits in the $|00\\rangle$ state (stored in an array of length 2).\n",
    "\n",
    "**Goal:** Change the state of the qubits to $\\frac{1}{2} \\big(|00\\rangle + i|01\\rangle - |10\\rangle - i|11\\rangle\\big)$.\n",
    "\n",
    "<br/>\n",
    "<details>\n",
    "  <summary><b>Need a hint? Click here</b></summary>\n",
    "  Is this state separable?\n",
    "</details>"
   ]
  },
  {
   "cell_type": "code",
   "execution_count": 6,
   "metadata": {},
   "outputs": [
    {
     "name": "stdout",
     "output_type": "stream",
     "text": [
      "The desired state:\n",
      "# wave function for qubits with ids (least to most significant): 0;1\n",
      "∣0❭:\t 0.500000 +  0.000000 i\t == \t******               [ 0.250000 ]     --- [  0.00000 rad ]\n",
      "∣1❭:\t-0.500000 +  0.000000 i\t == \t******               [ 0.250000 ] ---     [  3.14159 rad ]\n",
      "∣2❭:\t 0.000000 +  0.500000 i\t == \t******               [ 0.250000 ]    ↑    [  1.57080 rad ]\n",
      "∣3❭:\t 0.000000 + -0.500000 i\t == \t******               [ 0.250000 ]    ↓    [ -1.57080 rad ]\n",
      "The actual state:\n",
      "# wave function for qubits with ids (least to most significant): 0;1\n",
      "∣0❭:\t 0.000000 +  0.500000 i\t == \t******               [ 0.250000 ]    ↑    [  1.57080 rad ]\n",
      "∣1❭:\t 0.000000 + -0.500000 i\t == \t******               [ 0.250000 ]    ↓    [ -1.57080 rad ]\n",
      "∣2❭:\t-0.500000 +  0.000000 i\t == \t******               [ 0.250000 ] ---     [  3.14159 rad ]\n",
      "∣3❭:\t 0.500000 +  0.000000 i\t == \t******               [ 0.250000 ]     --- [  0.00000 rad ]\n",
      "Test case passed\n"
     ]
    },
    {
     "data": {
      "application/json": "\"Success!\"",
      "text/plain": [
       "Success!"
      ]
     },
     "execution_count": 6,
     "metadata": {},
     "output_type": "execute_result"
    }
   ],
   "source": [
    "%kata T05_AllBasisVectorsWithPhases_TwoQubits_Test\n",
    "\n",
    "operation AllBasisVectorsWithPhases_TwoQubits (qs : Qubit[]) : Unit {\n",
    "    // ...\n",
    "    X(qs[0]);\n",
    "    H(qs[0]);\n",
    "    H(qs[1]);\n",
    "    S(qs[1]);\n",
    "}"
   ]
  },
  {
   "cell_type": "markdown",
   "metadata": {},
   "source": [
    "*Can't come up with a solution? See the explained solution in the [Superposition Workbook](./Workbook_Superposition.ipynb#superposition-of-basis-vectors-with-phases).*"
   ]
  },
  {
   "cell_type": "markdown",
   "metadata": {},
   "source": [
    "### <a name=\"bell-state\"></a>Task 6. Bell state $|\\Phi^{+}\\rangle$.\n",
    "\n",
    "**Input:** Two qubits in the $|00\\rangle$ state (stored in an array of length 2).\n",
    "\n",
    "**Goal:**  Change the state of the qubits to $|\\Phi^{+}\\rangle = \\frac{1}{\\sqrt{2}} \\big (|00\\rangle + |11\\rangle\\big)$.\n",
    "\n",
    "> You can find detailed coverage of Bell states and their creation [in this blog post](https://blogs.msdn.microsoft.com/uk_faculty_connection/2018/02/06/a-beginners-guide-to-quantum-computing-and-q/)."
   ]
  },
  {
   "cell_type": "code",
   "execution_count": 7,
   "metadata": {},
   "outputs": [
    {
     "name": "stdout",
     "output_type": "stream",
     "text": [
      "The desired state:\n",
      "# wave function for qubits with ids (least to most significant): 0;1\n",
      "∣0❭:\t 0.707107 +  0.000000 i\t == \t***********          [ 0.500000 ]     --- [  0.00000 rad ]\n",
      "∣1❭:\t 0.000000 +  0.000000 i\t == \t                     [ 0.000000 ]                   \n",
      "∣2❭:\t 0.000000 +  0.000000 i\t == \t                     [ 0.000000 ]                   \n",
      "∣3❭:\t 0.707107 +  0.000000 i\t == \t***********          [ 0.500000 ]     --- [  0.00000 rad ]\n",
      "The actual state:\n",
      "# wave function for qubits with ids (least to most significant): 0;1\n",
      "∣0❭:\t 0.707107 +  0.000000 i\t == \t***********          [ 0.500000 ]     --- [  0.00000 rad ]\n",
      "∣1❭:\t 0.000000 +  0.000000 i\t == \t                     [ 0.000000 ]                   \n",
      "∣2❭:\t 0.000000 +  0.000000 i\t == \t                     [ 0.000000 ]                   \n",
      "∣3❭:\t 0.707107 +  0.000000 i\t == \t***********          [ 0.500000 ]     --- [  0.00000 rad ]\n",
      "Test case passed\n"
     ]
    },
    {
     "data": {
      "application/json": "\"Success!\"",
      "text/plain": [
       "Success!"
      ]
     },
     "execution_count": 7,
     "metadata": {},
     "output_type": "execute_result"
    }
   ],
   "source": [
    "%kata T06_BellState_Test\n",
    "\n",
    "operation BellState (qs : Qubit[]) : Unit {\n",
    "    // ...\n",
    "    H(qs[0]);\n",
    "    CNOT(qs[0], qs[1]);\n",
    "}"
   ]
  },
  {
   "cell_type": "markdown",
   "metadata": {},
   "source": [
    "*Can't come up with a solution? See the explained solution in the [Superposition Workbook](./Workbook_Superposition.ipynb#bell-state).*"
   ]
  },
  {
   "cell_type": "markdown",
   "metadata": {},
   "source": [
    "### <a name=\"all-bell-states\"></a> Task 7. All Bell states.\n",
    "\n",
    "**Inputs:** \n",
    "\n",
    "1. Two qubits in the $|00\\rangle$ state (stored in an array of length 2).\n",
    "2. An integer index.\n",
    "\n",
    "**Goal:**  Change the state of the qubits to one of the Bell states, based on the value of index:\n",
    "\n",
    "<table>\n",
    "  <col width=\"50\"/>\n",
    "  <col width=\"200\"/>\n",
    "  <tr>\n",
    "    <th style=\"text-align:center\">Index</th>\n",
    "    <th style=\"text-align:center\">State</th>\n",
    "  </tr>\n",
    "  <tr>\n",
    "    <td style=\"text-align:center\">0</td>\n",
    "    <td style=\"text-align:center\">$|\\Phi^{+}\\rangle = \\frac{1}{\\sqrt{2}} \\big (|00\\rangle + |11\\rangle\\big)$</td>\n",
    "  </tr>\n",
    "  <tr>\n",
    "    <td style=\"text-align:center\">1</td>\n",
    "    <td style=\"text-align:center\">$|\\Phi^{-}\\rangle = \\frac{1}{\\sqrt{2}} \\big (|00\\rangle - |11\\rangle\\big)$</td>\n",
    "  </tr>\n",
    "  <tr>\n",
    "    <td style=\"text-align:center\">2</td>\n",
    "    <td style=\"text-align:center\">$|\\Psi^{+}\\rangle = \\frac{1}{\\sqrt{2}} \\big (|01\\rangle + |10\\rangle\\big)$</td>\n",
    "  </tr>\n",
    "  <tr>\n",
    "    <td style=\"text-align:center\">3</td>\n",
    "    <td style=\"text-align:center\">$|\\Psi^{-}\\rangle = \\frac{1}{\\sqrt{2}} \\big (|01\\rangle - |10\\rangle\\big)$</td>\n",
    "  </tr>\n",
    "</table>"
   ]
  },
  {
   "cell_type": "code",
   "execution_count": 8,
   "metadata": {},
   "outputs": [
    {
     "name": "stdout",
     "output_type": "stream",
     "text": [
      "The desired state for index = 0\n",
      "# wave function for qubits with ids (least to most significant): 0;1\n",
      "∣0❭:\t 0.707107 +  0.000000 i\t == \t***********          [ 0.500000 ]     --- [  0.00000 rad ]\n",
      "∣1❭:\t 0.000000 +  0.000000 i\t == \t                     [ 0.000000 ]                   \n",
      "∣2❭:\t 0.000000 +  0.000000 i\t == \t                     [ 0.000000 ]                   \n",
      "∣3❭:\t 0.707107 +  0.000000 i\t == \t***********          [ 0.500000 ]     --- [  0.00000 rad ]\n",
      "The actual state:\n",
      "# wave function for qubits with ids (least to most significant): 0;1\n",
      "∣0❭:\t 0.707107 +  0.000000 i\t == \t***********          [ 0.500000 ]     --- [  0.00000 rad ]\n",
      "∣1❭:\t 0.000000 +  0.000000 i\t == \t                     [ 0.000000 ]                   \n",
      "∣2❭:\t 0.000000 +  0.000000 i\t == \t                     [ 0.000000 ]                   \n",
      "∣3❭:\t 0.707107 +  0.000000 i\t == \t***********          [ 0.500000 ]     --- [  0.00000 rad ]\n",
      "Test case passed\n",
      "The desired state for index = 1\n",
      "# wave function for qubits with ids (least to most significant): 0;1\n",
      "∣0❭:\t 0.707107 +  0.000000 i\t == \t***********          [ 0.500000 ]     --- [  0.00000 rad ]\n",
      "∣1❭:\t 0.000000 +  0.000000 i\t == \t                     [ 0.000000 ]                   \n",
      "∣2❭:\t 0.000000 +  0.000000 i\t == \t                     [ 0.000000 ]                   \n",
      "∣3❭:\t-0.707107 +  0.000000 i\t == \t***********          [ 0.500000 ] ---     [  3.14159 rad ]\n",
      "The actual state:\n",
      "# wave function for qubits with ids (least to most significant): 0;1\n",
      "∣0❭:\t-0.707107 +  0.000000 i\t == \t***********          [ 0.500000 ] ---     [  3.14159 rad ]\n",
      "∣1❭:\t 0.000000 +  0.000000 i\t == \t                     [ 0.000000 ]                   \n",
      "∣2❭:\t 0.000000 +  0.000000 i\t == \t                     [ 0.000000 ]                   \n",
      "∣3❭:\t 0.707107 +  0.000000 i\t == \t***********          [ 0.500000 ]     --- [  0.00000 rad ]\n",
      "Test case passed\n",
      "The desired state for index = 2\n",
      "# wave function for qubits with ids (least to most significant): 0;1\n",
      "∣0❭:\t 0.000000 +  0.000000 i\t == \t                     [ 0.000000 ]                   \n",
      "∣1❭:\t-0.707107 +  0.000000 i\t == \t***********          [ 0.500000 ] ---     [  3.14159 rad ]\n",
      "∣2❭:\t-0.707107 +  0.000000 i\t == \t***********          [ 0.500000 ] ---     [  3.14159 rad ]\n",
      "∣3❭:\t 0.000000 +  0.000000 i\t == \t                     [ 0.000000 ]                   \n",
      "The actual state:\n",
      "# wave function for qubits with ids (least to most significant): 0;1\n",
      "∣0❭:\t 0.000000 +  0.000000 i\t == \t                     [ 0.000000 ]                   \n",
      "∣1❭:\t-0.707107 +  0.000000 i\t == \t***********          [ 0.500000 ] ---     [  3.14159 rad ]\n",
      "∣2❭:\t-0.707107 +  0.000000 i\t == \t***********          [ 0.500000 ] ---     [  3.14159 rad ]\n",
      "∣3❭:\t 0.000000 +  0.000000 i\t == \t                     [ 0.000000 ]                   \n",
      "Test case passed\n",
      "The desired state for index = 3\n",
      "# wave function for qubits with ids (least to most significant): 0;1\n",
      "∣0❭:\t 0.000000 +  0.000000 i\t == \t                     [ 0.000000 ]                   \n",
      "∣1❭:\t 0.707107 +  0.000000 i\t == \t***********          [ 0.500000 ]     --- [  0.00000 rad ]\n",
      "∣2❭:\t-0.707107 +  0.000000 i\t == \t***********          [ 0.500000 ] ---     [  3.14159 rad ]\n",
      "∣3❭:\t 0.000000 +  0.000000 i\t == \t                     [ 0.000000 ]                   \n",
      "The actual state:\n",
      "# wave function for qubits with ids (least to most significant): 0;1\n",
      "∣0❭:\t 0.000000 +  0.000000 i\t == \t                     [ 0.000000 ]                   \n",
      "∣1❭:\t-0.707107 +  0.000000 i\t == \t***********          [ 0.500000 ] ---     [  3.14159 rad ]\n",
      "∣2❭:\t 0.707107 +  0.000000 i\t == \t***********          [ 0.500000 ]     --- [  0.00000 rad ]\n",
      "∣3❭:\t 0.000000 +  0.000000 i\t == \t                     [ 0.000000 ]                   \n",
      "Test case passed\n"
     ]
    },
    {
     "data": {
      "application/json": "\"Success!\"",
      "text/plain": [
       "Success!"
      ]
     },
     "execution_count": 8,
     "metadata": {},
     "output_type": "execute_result"
    }
   ],
   "source": [
    "%kata T07_AllBellStates_Test\n",
    "\n",
    "operation AllBellStates (qs : Qubit[], index : Int) : Unit {\n",
    "    // ...\n",
    "    if(index % 2 == 1){\n",
    "        X(qs[0]);\n",
    "    }\n",
    "    H(qs[0]);\n",
    "    if(index >1){\n",
    "        X(qs[1]);\n",
    "    }\n",
    "    CNOT(qs[0], qs[1]);\n",
    "}"
   ]
  },
  {
   "cell_type": "markdown",
   "metadata": {},
   "source": [
    "*Can't come up with a solution? See the explained solution in the [Superposition Workbook](./Workbook_Superposition.ipynb#all-bell-states).*"
   ]
  },
  {
   "cell_type": "markdown",
   "metadata": {},
   "source": [
    "### <a name=\"greenberger-horne-zeilinger\"></a> Task 8. Greenberger–Horne–Zeilinger state.\n",
    "\n",
    "**Input:** $N$ ($N \\ge 1$) qubits in the $|0 \\dots 0\\rangle$ state (stored in an array of length $N$).\n",
    "\n",
    "**Goal:**  Change the state of the qubits to the GHZ state $\\frac{1}{\\sqrt{2}} \\big (|0\\dots0\\rangle + |1\\dots1\\rangle\\big)$.\n",
    "\n",
    "> For the syntax of flow control statements in Q#, see [the Q# documentation](https://docs.microsoft.com/quantum/language/statements#control-flow)."
   ]
  },
  {
   "cell_type": "code",
   "execution_count": 9,
   "metadata": {},
   "outputs": [
    {
     "name": "stdout",
     "output_type": "stream",
     "text": [
      "The desired state for N = 1\n",
      "# wave function for qubits with ids (least to most significant): 0\n",
      "∣0❭:\t 0.707107 +  0.000000 i\t == \t***********          [ 0.500000 ]     --- [  0.00000 rad ]\n",
      "∣1❭:\t 0.707107 +  0.000000 i\t == \t***********          [ 0.500000 ]     --- [  0.00000 rad ]\n",
      "The actual state:\n",
      "# wave function for qubits with ids (least to most significant): 0\n",
      "∣0❭:\t 0.707107 +  0.000000 i\t == \t***********          [ 0.500000 ]     --- [  0.00000 rad ]\n",
      "∣1❭:\t 0.707107 +  0.000000 i\t == \t***********          [ 0.500000 ]     --- [  0.00000 rad ]\n",
      "Test case passed\n",
      "The desired state for N = 2\n",
      "# wave function for qubits with ids (least to most significant): 0;1\n",
      "∣0❭:\t 0.707107 +  0.000000 i\t == \t***********          [ 0.500000 ]     --- [  0.00000 rad ]\n",
      "∣1❭:\t 0.000000 +  0.000000 i\t == \t                     [ 0.000000 ]                   \n",
      "∣2❭:\t 0.000000 +  0.000000 i\t == \t                     [ 0.000000 ]                   \n",
      "∣3❭:\t 0.707107 +  0.000000 i\t == \t***********          [ 0.500000 ]     --- [  0.00000 rad ]\n",
      "The actual state:\n",
      "# wave function for qubits with ids (least to most significant): 0;1\n",
      "∣0❭:\t 0.707107 +  0.000000 i\t == \t***********          [ 0.500000 ]     --- [  0.00000 rad ]\n",
      "∣1❭:\t 0.000000 +  0.000000 i\t == \t                     [ 0.000000 ]                   \n",
      "∣2❭:\t 0.000000 +  0.000000 i\t == \t                     [ 0.000000 ]                   \n",
      "∣3❭:\t 0.707107 +  0.000000 i\t == \t***********          [ 0.500000 ]     --- [  0.00000 rad ]\n",
      "Test case passed\n",
      "Testing on hidden test cases...\n"
     ]
    },
    {
     "data": {
      "application/json": "\"Success!\"",
      "text/plain": [
       "Success!"
      ]
     },
     "execution_count": 9,
     "metadata": {},
     "output_type": "execute_result"
    }
   ],
   "source": [
    "%kata T08_GHZ_State_Test\n",
    "\n",
    "operation GHZ_State (qs : Qubit[]) : Unit {\n",
    "    // You can find N as Length(qs).\n",
    "    // ...\n",
    "    let n = Length(qs);\n",
    "    H(qs[0]);\n",
    "    for(index in 1 .. n-1){\n",
    "        CNOT(qs[0], qs[index]);\n",
    "    }\n",
    "    \n",
    "}"
   ]
  },
  {
   "cell_type": "markdown",
   "metadata": {},
   "source": [
    "*Can't come up with a solution? See the explained solution in the [Superposition Workbook](./Workbook_Superposition_Part2.ipynb#greenberger-horne-zeilinger).*"
   ]
  },
  {
   "cell_type": "markdown",
   "metadata": {},
   "source": [
    "### <a name=\"superposition-of-all-basis-vectors\"></a> Task 9. Superposition of all basis vectors.\n",
    "\n",
    "**Input:** $N$ ($N \\ge 1$) qubits in the $|0 \\dots 0\\rangle$ state.\n",
    "\n",
    "**Goal:**  Change the state of the qubits to an equal superposition of all basis vectors $\\frac{1}{\\sqrt{2^N}} \\big (|0 \\dots 0\\rangle + \\dots + |1 \\dots 1\\rangle\\big)$.\n",
    "\n",
    "> For example, for $N = 2$ the final state should be  $\\frac{1}{\\sqrt{2}} \\big (|00\\rangle + |01\\rangle + |10\\rangle + |11\\rangle\\big)$.\n",
    "\n",
    "<br/>\n",
    "<details>\n",
    "  <summary><b>Need a hint? Click here</b></summary>\n",
    "  Is this state separable?\n",
    "</details>"
   ]
  },
  {
   "cell_type": "code",
   "execution_count": 10,
   "metadata": {},
   "outputs": [
    {
     "name": "stdout",
     "output_type": "stream",
     "text": [
      "The desired state for N = 1\n",
      "# wave function for qubits with ids (least to most significant): 0\n",
      "∣0❭:\t 0.707107 +  0.000000 i\t == \t***********          [ 0.500000 ]     --- [  0.00000 rad ]\n",
      "∣1❭:\t 0.707107 +  0.000000 i\t == \t***********          [ 0.500000 ]     --- [  0.00000 rad ]\n",
      "The actual state:\n",
      "# wave function for qubits with ids (least to most significant): 0\n",
      "∣0❭:\t 0.707107 +  0.000000 i\t == \t***********          [ 0.500000 ]     --- [  0.00000 rad ]\n",
      "∣1❭:\t 0.707107 +  0.000000 i\t == \t***********          [ 0.500000 ]     --- [  0.00000 rad ]\n",
      "Test case passed\n",
      "The desired state for N = 2\n",
      "# wave function for qubits with ids (least to most significant): 0;1\n",
      "∣0❭:\t 0.500000 +  0.000000 i\t == \t******               [ 0.250000 ]     --- [  0.00000 rad ]\n",
      "∣1❭:\t 0.500000 +  0.000000 i\t == \t******               [ 0.250000 ]     --- [  0.00000 rad ]\n",
      "∣2❭:\t 0.500000 +  0.000000 i\t == \t******               [ 0.250000 ]     --- [  0.00000 rad ]\n",
      "∣3❭:\t 0.500000 +  0.000000 i\t == \t******               [ 0.250000 ]     --- [  0.00000 rad ]\n",
      "The actual state:\n",
      "# wave function for qubits with ids (least to most significant): 0;1\n",
      "∣0❭:\t 0.500000 +  0.000000 i\t == \t******               [ 0.250000 ]     --- [  0.00000 rad ]\n",
      "∣1❭:\t 0.500000 +  0.000000 i\t == \t******               [ 0.250000 ]     --- [  0.00000 rad ]\n",
      "∣2❭:\t 0.500000 +  0.000000 i\t == \t******               [ 0.250000 ]     --- [  0.00000 rad ]\n",
      "∣3❭:\t 0.500000 +  0.000000 i\t == \t******               [ 0.250000 ]     --- [  0.00000 rad ]\n",
      "Test case passed\n",
      "Testing on hidden test cases...\n"
     ]
    },
    {
     "data": {
      "application/json": "\"Success!\"",
      "text/plain": [
       "Success!"
      ]
     },
     "execution_count": 10,
     "metadata": {},
     "output_type": "execute_result"
    }
   ],
   "source": [
    "%kata T09_AllBasisVectorsSuperposition_Test\n",
    "\n",
    "operation AllBasisVectorsSuperposition (qs : Qubit[]) : Unit {\n",
    "    // ...\n",
    "    for(q in qs){\n",
    "        H(q);\n",
    "    }\n",
    "}"
   ]
  },
  {
   "cell_type": "markdown",
   "metadata": {},
   "source": [
    "*Can't come up with a solution? See the explained solution in the [Superposition Workbook](./Workbook_Superposition_Part2.ipynb#superposition-of-all-basis-vectors).*"
   ]
  },
  {
   "cell_type": "markdown",
   "metadata": {},
   "source": [
    "### <a name=\"superposition-of-all-even-or-all-odd-numbers\"></a> Task 10. Superposition of all even or all odd numbers.\n",
    "\n",
    "**Inputs:** \n",
    "\n",
    "1. $N$ ($N \\ge 1$) qubits in the $|0 \\dots 0\\rangle$ state (stored in an array of length $N$).\n",
    "2. A boolean `isEven`.\n",
    "\n",
    "**Goal:**  Prepare a superposition of all *even* numbers if `isEven` is `true`, or of all *odd* numbers if `isEven` is `false`.  \n",
    "A basis state encodes an integer number using [big-endian](https://en.wikipedia.org/wiki/Endianness) binary notation: state $|01\\rangle$ corresponds to the integer $1$, and state $|10 \\rangle$ - to the integer $2$.  \n",
    "\n",
    "> For example, for $N = 2$ and `isEven = false` you need to prepare superposition $\\frac{1}{\\sqrt{2}} \\big (|01\\rangle + |11\\rangle\\big )$,  \n",
    "and for $N = 2$ and `isEven = true` - superposition $\\frac{1}{\\sqrt{2}} \\big (|00\\rangle + |10\\rangle\\big )$."
   ]
  },
  {
   "cell_type": "code",
   "execution_count": 11,
   "metadata": {},
   "outputs": [
    {
     "name": "stdout",
     "output_type": "stream",
     "text": [
      "The desired state for N = 1, isEven = False\n",
      "# wave function for qubits with ids (least to most significant): 0\n",
      "∣0❭:\t 0.000000 +  0.000000 i\t == \t                     [ 0.000000 ]                   \n",
      "∣1❭:\t 1.000000 +  0.000000 i\t == \t******************** [ 1.000000 ]     --- [  0.00000 rad ]\n",
      "The actual state:\n",
      "# wave function for qubits with ids (least to most significant): 0\n",
      "∣0❭:\t 0.000000 +  0.000000 i\t == \t                     [ 0.000000 ]                   \n",
      "∣1❭:\t 1.000000 +  0.000000 i\t == \t******************** [ 1.000000 ]     --- [  0.00000 rad ]\n",
      "Test case passed\n",
      "The desired state for N = 1, isEven = True\n",
      "# wave function for qubits with ids (least to most significant): 0\n",
      "∣0❭:\t 1.000000 +  0.000000 i\t == \t******************** [ 1.000000 ]     --- [  0.00000 rad ]\n",
      "∣1❭:\t 0.000000 +  0.000000 i\t == \t                     [ 0.000000 ]                   \n",
      "The actual state:\n",
      "# wave function for qubits with ids (least to most significant): 0\n",
      "∣0❭:\t 1.000000 +  0.000000 i\t == \t******************** [ 1.000000 ]     --- [  0.00000 rad ]\n",
      "∣1❭:\t 0.000000 +  0.000000 i\t == \t                     [ 0.000000 ]                   \n",
      "Test case passed\n",
      "The desired state for N = 2, isEven = False\n",
      "# wave function for qubits with ids (least to most significant): 0;1\n",
      "∣0❭:\t 0.000000 +  0.000000 i\t == \t                     [ 0.000000 ]                   \n",
      "∣1❭:\t 0.000000 +  0.000000 i\t == \t                     [ 0.000000 ]                   \n",
      "∣2❭:\t 0.707107 +  0.000000 i\t == \t***********          [ 0.500000 ]     --- [  0.00000 rad ]\n",
      "∣3❭:\t 0.707107 +  0.000000 i\t == \t***********          [ 0.500000 ]     --- [  0.00000 rad ]\n",
      "The actual state:\n",
      "# wave function for qubits with ids (least to most significant): 0;1\n",
      "∣0❭:\t 0.000000 +  0.000000 i\t == \t                     [ 0.000000 ]                   \n",
      "∣1❭:\t 0.000000 +  0.000000 i\t == \t                     [ 0.000000 ]                   \n",
      "∣2❭:\t 0.707107 +  0.000000 i\t == \t***********          [ 0.500000 ]     --- [  0.00000 rad ]\n",
      "∣3❭:\t 0.707107 +  0.000000 i\t == \t***********          [ 0.500000 ]     --- [  0.00000 rad ]\n",
      "Test case passed\n",
      "The desired state for N = 2, isEven = True\n",
      "# wave function for qubits with ids (least to most significant): 0;1\n",
      "∣0❭:\t 0.707107 +  0.000000 i\t == \t***********          [ 0.500000 ]     --- [  0.00000 rad ]\n",
      "∣1❭:\t 0.707107 +  0.000000 i\t == \t***********          [ 0.500000 ]     --- [  0.00000 rad ]\n",
      "∣2❭:\t 0.000000 +  0.000000 i\t == \t                     [ 0.000000 ]                   \n",
      "∣3❭:\t 0.000000 +  0.000000 i\t == \t                     [ 0.000000 ]                   \n",
      "The actual state:\n",
      "# wave function for qubits with ids (least to most significant): 0;1\n",
      "∣0❭:\t 0.707107 +  0.000000 i\t == \t***********          [ 0.500000 ]     --- [  0.00000 rad ]\n",
      "∣1❭:\t 0.707107 +  0.000000 i\t == \t***********          [ 0.500000 ]     --- [  0.00000 rad ]\n",
      "∣2❭:\t 0.000000 +  0.000000 i\t == \t                     [ 0.000000 ]                   \n",
      "∣3❭:\t 0.000000 +  0.000000 i\t == \t                     [ 0.000000 ]                   \n",
      "Test case passed\n",
      "Testing on hidden test cases...\n"
     ]
    },
    {
     "data": {
      "application/json": "\"Success!\"",
      "text/plain": [
       "Success!"
      ]
     },
     "execution_count": 11,
     "metadata": {},
     "output_type": "execute_result"
    }
   ],
   "source": [
    "%kata T10_EvenOddNumbersSuperposition_Test\n",
    "\n",
    "operation EvenOddNumbersSuperposition (qs : Qubit[], isEven : Bool) : Unit {\n",
    "    // ...\n",
    "    let qlen = Length(qs);\n",
    "    for(index in 0 .. qlen - 2){\n",
    "        H(qs[index]);\n",
    "    }\n",
    "    if(not(isEven)){\n",
    "        X(qs[qlen-1]);\n",
    "    }\n",
    "}"
   ]
  },
  {
   "cell_type": "markdown",
   "metadata": {},
   "source": [
    "*Can't come up with a solution? See the explained solution in the [Superposition Workbook](./Workbook_Superposition_Part2.ipynb#superposition-of-all-even-or-all-odd-numbers).*"
   ]
  },
  {
   "cell_type": "markdown",
   "metadata": {},
   "source": [
    "### <a name=\"threestates-twoqubits\"></a>Task 11*. $\\frac{1}{\\sqrt{3}} \\big(|00\\rangle + |01\\rangle + |10\\rangle\\big)$ state.\n",
    "\n",
    "**Input:** Two qubits in the $|00\\rangle$ state.\n",
    "\n",
    "**Goal:**  Change the state of the qubits to $\\frac{1}{\\sqrt{3}} \\big(|00\\rangle + |01\\rangle + |10\\rangle\\big)$.\n",
    "\n",
    "<br/>\n",
    "<details>\n",
    "  <summary><b>Need a hint? Click here</b></summary>\n",
    "  If you need trigonometric functions, you can find them in Microsoft.Quantum.Math namespace; you'll need to add <pre>open Microsoft.Quantum.Math;</pre> to the code before the operation definition.\n",
    "</details>"
   ]
  },
  {
   "cell_type": "code",
   "execution_count": 12,
   "metadata": {},
   "outputs": [
    {
     "name": "stdout",
     "output_type": "stream",
     "text": [
      "The desired state:\n",
      "# wave function for qubits with ids (least to most significant): 0;1\n",
      "∣0❭:\t 0.577350 +  0.000000 i\t == \t*******              [ 0.333333 ]     --- [  0.00000 rad ]\n",
      "∣1❭:\t 0.577350 +  0.000000 i\t == \t*******              [ 0.333333 ]     --- [  0.00000 rad ]\n",
      "∣2❭:\t 0.577350 +  0.000000 i\t == \t*******              [ 0.333333 ]     --- [  0.00000 rad ]\n",
      "∣3❭:\t 0.000000 +  0.000000 i\t == \t                     [ 0.000000 ]                   \n",
      "The actual state:\n",
      "# wave function for qubits with ids (least to most significant): 0;1\n",
      "∣0❭:\t 0.577350 +  0.000000 i\t == \t*******              [ 0.333333 ]     --- [  0.00000 rad ]\n",
      "∣1❭:\t 0.577350 +  0.000000 i\t == \t*******              [ 0.333333 ]     --- [  0.00000 rad ]\n",
      "∣2❭:\t 0.577350 +  0.000000 i\t == \t*******              [ 0.333333 ]     --- [  0.00000 rad ]\n",
      "∣3❭:\t 0.000000 +  0.000000 i\t == \t                     [ 0.000000 ]                   \n",
      "Test case passed\n"
     ]
    },
    {
     "data": {
      "application/json": "\"Success!\"",
      "text/plain": [
       "Success!"
      ]
     },
     "execution_count": 12,
     "metadata": {},
     "output_type": "execute_result"
    }
   ],
   "source": [
    "%kata T11_ThreeStates_TwoQubits_Test\n",
    "open Microsoft.Quantum.Math;\n",
    "operation ThreeStates_TwoQubits (qs : Qubit[]) : Unit {\n",
    "    // ...\n",
    "    let alpha = 2.0 * ArcSin((2.0/3.0)^(1.0/2.0));\n",
    "    let beta  = 2.0 * ArcSin((1.0/2.0)^(1.0/2.0));\n",
    "    Ry(alpha, qs[0]);\n",
    "    Controlled Ry([qs[0]] ,(beta,  qs[1]));\n",
    "    CNOT(qs[1], qs[0]);\n",
    "}"
   ]
  },
  {
   "cell_type": "markdown",
   "metadata": {},
   "source": [
    "### Task 12*. Hardy state.\n",
    "\n",
    "**Input:** Two qubits in the $|00\\rangle$ state.\n",
    "\n",
    "**Goal:**  Change the state of the qubits to $\\frac{1}{\\sqrt{12}} \\big(3|00\\rangle + |01\\rangle + |10\\rangle + |11\\rangle\\big)$.\n",
    "\n",
    "<br/>\n",
    "<details>\n",
    "  <summary><b>Need a hint? Click here</b></summary>\n",
    "  If you need trigonometric functions, you can find them in Microsoft.Quantum.Math namespace; you'll need to add <pre>open Microsoft.Quantum.Math;</pre> to the code before the operation definition.\n",
    "</details>"
   ]
  },
  {
   "cell_type": "code",
   "execution_count": 38,
   "metadata": {},
   "outputs": [
    {
     "name": "stdout",
     "output_type": "stream",
     "text": [
      "The desired state:\n",
      "# wave function for qubits with ids (least to most significant): 0;1\n",
      "∣0❭:\t 0.866025 +  0.000000 i\t == \t****************     [ 0.750000 ]     --- [  0.00000 rad ]\n",
      "∣1❭:\t 0.288675 +  0.000000 i\t == \t**                   [ 0.083333 ]     --- [  0.00000 rad ]\n",
      "∣2❭:\t 0.288675 +  0.000000 i\t == \t**                   [ 0.083333 ]     --- [  0.00000 rad ]\n",
      "∣3❭:\t 0.288675 +  0.000000 i\t == \t**                   [ 0.083333 ]     --- [  0.00000 rad ]\n",
      "The actual state:\n",
      "# wave function for qubits with ids (least to most significant): 0;1\n",
      "∣0❭:\t 0.848528 +  0.000000 i\t == \t***************      [ 0.720000 ]     --- [  0.00000 rad ]\n",
      "∣1❭:\t 0.316228 +  0.000000 i\t == \t**                   [ 0.100000 ]     --- [  0.00000 rad ]\n",
      "∣2❭:\t 0.282843 +  0.000000 i\t == \t**                   [ 0.080000 ]     --- [  0.00000 rad ]\n",
      "∣3❭:\t 0.316228 +  0.000000 i\t == \t**                   [ 0.100000 ]     --- [  0.00000 rad ]\n"
     ]
    },
    {
     "name": "stderr",
     "output_type": "stream",
     "text": [
      "Qubit in invalid state. Expecting: Zero\n",
      "\tExpected:\t0\n",
      "\tActual:\t0.0018576030000280494\n",
      "Try again!\n"
     ]
    }
   ],
   "source": [
    "%kata T12_Hardy_State_Test\n",
    "open Microsoft.Quantum.Math;\n",
    "operation Hardy_State (qs : Qubit[]) : Unit {\n",
    "    // ...\n",
    "    // let alpha  = 2.0 * ArcCos((3.0/4.0)^(1.0/2.0));\n",
    "    // let beta   = 2.0 * ArcCos((1.0/3.0)^(1.0/2.0));\n",
    "    // let gamma  = 2.0 * ArcSin(-(1.0/2.0)^(1.0/2.0));\n",
    "    // Ry(alpha, qs[0]);\n",
    "    // Controlled Ry([qs[0]], (beta, qs[1]));\n",
    "    // Controlled Ry([qs[1]], (gamma, qs[0]));\n",
    "    let alpha = 2.0 * ArcTan2(1.0, 2.0);\n",
    "    Ry(alpha, qs[0]);\n",
    "    let beta = 2.0 * ArcTan2(1.0, 3.0);\n",
    "    X(qs[0]);\n",
    "    Controlled Ry([qs[0]], (beta, qs[1]));\n",
    "    X(qs[0]);\n",
    "    let gamma = 2.0 * ArcTan2(1.0, 1.0);\n",
    "    Controlled Ry([qs[0]], (gamma, qs[1]));\n",
    "}"
   ]
  },
  {
   "cell_type": "markdown",
   "metadata": {},
   "source": [
    "### Task 13. Superposition of $|0 \\dots 0\\rangle$ and the given bit string.\n",
    "\n",
    "**Inputs:** \n",
    "\n",
    "1. $N$ ($N \\ge 1$) qubits in the $|0 \\dots 0\\rangle$ state.\n",
    "2. A bit string of length $N$ represented as `Bool[]`. Bit values `false` and `true` correspond to $|0\\rangle$ and $|1\\rangle$ states. You are guaranteed that the first bit of the bit string is `true`.\n",
    "\n",
    "**Goal:**  Change the state of the qubits to an equal superposition of $|0 \\dots 0\\rangle$ and the basis state given by the bit string.\n",
    "\n",
    "> For example, for the bit string `[true, false]` the state required is $\\frac{1}{\\sqrt{2}}\\big(|00\\rangle + |10\\rangle\\big)$."
   ]
  },
  {
   "cell_type": "code",
   "execution_count": 24,
   "metadata": {},
   "outputs": [
    {
     "name": "stdout",
     "output_type": "stream",
     "text": [
      "The desired state for bits = [True]\n",
      "# wave function for qubits with ids (least to most significant): 0\n",
      "∣0❭:\t 0.707107 +  0.000000 i\t == \t***********          [ 0.500000 ]     --- [  0.00000 rad ]\n",
      "∣1❭:\t 0.707107 +  0.000000 i\t == \t***********          [ 0.500000 ]     --- [  0.00000 rad ]\n",
      "The actual state:\n",
      "# wave function for qubits with ids (least to most significant): 0\n",
      "∣0❭:\t 0.707107 +  0.000000 i\t == \t***********          [ 0.500000 ]     --- [  0.00000 rad ]\n",
      "∣1❭:\t 0.707107 +  0.000000 i\t == \t***********          [ 0.500000 ]     --- [  0.00000 rad ]\n",
      "Test case passed\n",
      "The desired state for bits = [True,True]\n",
      "# wave function for qubits with ids (least to most significant): 0;1\n",
      "∣0❭:\t 0.707107 +  0.000000 i\t == \t***********          [ 0.500000 ]     --- [  0.00000 rad ]\n",
      "∣1❭:\t 0.000000 +  0.000000 i\t == \t                     [ 0.000000 ]                   \n",
      "∣2❭:\t 0.000000 +  0.000000 i\t == \t                     [ 0.000000 ]                   \n",
      "∣3❭:\t 0.707107 +  0.000000 i\t == \t***********          [ 0.500000 ]     --- [  0.00000 rad ]\n",
      "The actual state:\n",
      "# wave function for qubits with ids (least to most significant): 0;1\n",
      "∣0❭:\t 0.707107 +  0.000000 i\t == \t***********          [ 0.500000 ]     --- [  0.00000 rad ]\n",
      "∣1❭:\t 0.000000 +  0.000000 i\t == \t                     [ 0.000000 ]                   \n",
      "∣2❭:\t 0.000000 +  0.000000 i\t == \t                     [ 0.000000 ]                   \n",
      "∣3❭:\t 0.707107 +  0.000000 i\t == \t***********          [ 0.500000 ]     --- [  0.00000 rad ]\n",
      "Test case passed\n",
      "The desired state for bits = [True,False]\n",
      "# wave function for qubits with ids (least to most significant): 0;1\n",
      "∣0❭:\t 0.707107 +  0.000000 i\t == \t***********          [ 0.500000 ]     --- [  0.00000 rad ]\n",
      "∣1❭:\t 0.707107 +  0.000000 i\t == \t***********          [ 0.500000 ]     --- [  0.00000 rad ]\n",
      "∣2❭:\t 0.000000 +  0.000000 i\t == \t                     [ 0.000000 ]                   \n",
      "∣3❭:\t 0.000000 +  0.000000 i\t == \t                     [ 0.000000 ]                   \n",
      "The actual state:\n",
      "# wave function for qubits with ids (least to most significant): 0;1\n",
      "∣0❭:\t 0.707107 +  0.000000 i\t == \t***********          [ 0.500000 ]     --- [  0.00000 rad ]\n",
      "∣1❭:\t 0.707107 +  0.000000 i\t == \t***********          [ 0.500000 ]     --- [  0.00000 rad ]\n",
      "∣2❭:\t 0.000000 +  0.000000 i\t == \t                     [ 0.000000 ]                   \n",
      "∣3❭:\t 0.000000 +  0.000000 i\t == \t                     [ 0.000000 ]                   \n",
      "Test case passed\n",
      "Testing on hidden test cases...\n"
     ]
    },
    {
     "data": {
      "application/json": "\"Success!\"",
      "text/plain": [
       "Success!"
      ]
     },
     "execution_count": 24,
     "metadata": {},
     "output_type": "execute_result"
    }
   ],
   "source": [
    "%kata T13_ZeroAndBitstringSuperposition_Test\n",
    "\n",
    "operation ZeroAndBitstringSuperposition (qs : Qubit[], bits : Bool[]) : Unit {\n",
    "    // ...\n",
    "    let qlen = Length(qs);\n",
    "    H(qs[0]);\n",
    "    for(index in 1 .. qlen - 1){\n",
    "        if(bits[index]){\n",
    "            CNOT(qs[0], qs[index]);\n",
    "        }\n",
    "    }\n",
    "}"
   ]
  },
  {
   "cell_type": "markdown",
   "metadata": {},
   "source": [
    "### Task 14. Superposition of two bit strings.\n",
    "\n",
    "**Inputs:** \n",
    "\n",
    "1. $N$ ($N \\ge 1$) qubits in the $|0 \\dots 0\\rangle$ state.\n",
    "2. Two bit strings of length $N$ represented as `Bool[]`s. Bit values `false` and `true` correspond to $|0\\rangle$ and $|1\\rangle$ states. You are guaranteed that the two bit strings differ in at least one bit.\n",
    "\n",
    "**Goal:**  Change the state of the qubits to an equal superposition of the basis states given by the bit strings.\n",
    "\n",
    "> For example, for bit strings `[false, true, false]` and `[false, false, true]` the state required is $\\frac{1}{\\sqrt{2}}\\big(|010\\rangle + |001\\rangle\\big)$.\n",
    "\n",
    "> If you need to define any helper functions, you'll need to create an extra code cell for it and execute it before returning to this cell."
   ]
  },
  {
   "cell_type": "code",
   "execution_count": 25,
   "metadata": {},
   "outputs": [
    {
     "name": "stdout",
     "output_type": "stream",
     "text": [
      "The desired state for bits1 = [True], bits2 = [False]\n",
      "# wave function for qubits with ids (least to most significant): 0\n",
      "∣0❭:\t 0.707107 +  0.000000 i\t == \t***********          [ 0.500000 ]     --- [  0.00000 rad ]\n",
      "∣1❭:\t 0.707107 +  0.000000 i\t == \t***********          [ 0.500000 ]     --- [  0.00000 rad ]\n",
      "The actual state:\n",
      "# wave function for qubits with ids (least to most significant): 0\n",
      "∣0❭:\t 0.707107 +  0.000000 i\t == \t***********          [ 0.500000 ]     --- [  0.00000 rad ]\n",
      "∣1❭:\t 0.707107 +  0.000000 i\t == \t***********          [ 0.500000 ]     --- [  0.00000 rad ]\n",
      "Test case passed\n",
      "The desired state for bits1 = [False,True], bits2 = [True,False]\n",
      "# wave function for qubits with ids (least to most significant): 0;1\n",
      "∣0❭:\t 0.000000 +  0.000000 i\t == \t                     [ 0.000000 ]                   \n",
      "∣1❭:\t 0.707107 +  0.000000 i\t == \t***********          [ 0.500000 ]     --- [  0.00000 rad ]\n",
      "∣2❭:\t 0.707107 +  0.000000 i\t == \t***********          [ 0.500000 ]     --- [  0.00000 rad ]\n",
      "∣3❭:\t 0.000000 +  0.000000 i\t == \t                     [ 0.000000 ]                   \n",
      "The actual state:\n",
      "# wave function for qubits with ids (least to most significant): 0;1\n",
      "∣0❭:\t 0.000000 +  0.000000 i\t == \t                     [ 0.000000 ]                   \n",
      "∣1❭:\t 0.707107 +  0.000000 i\t == \t***********          [ 0.500000 ]     --- [  0.00000 rad ]\n",
      "∣2❭:\t 0.707107 +  0.000000 i\t == \t***********          [ 0.500000 ]     --- [  0.00000 rad ]\n",
      "∣3❭:\t 0.000000 +  0.000000 i\t == \t                     [ 0.000000 ]                   \n",
      "Test case passed\n",
      "Testing on hidden test cases...\n"
     ]
    },
    {
     "data": {
      "application/json": "\"Success!\"",
      "text/plain": [
       "Success!"
      ]
     },
     "execution_count": 25,
     "metadata": {},
     "output_type": "execute_result"
    }
   ],
   "source": [
    "%kata T14_TwoBitstringSuperposition_Test\n",
    "\n",
    "operation TwoBitstringSuperposition (qs : Qubit[], bits1 : Bool[], bits2 : Bool[]) : Unit {\n",
    "    // ...\n",
    "    let qlen = Length(qs);\n",
    "    mutable entangled = false;\n",
    "    mutable first_one = 0;\n",
    "    mutable fliped = 0;\n",
    "    for(index in 0 .. qlen - 1){\n",
    "        if(bits1[index] and bits2[index]){\n",
    "            X(qs[index]);\n",
    "        }elif(not(entangled) and (bits1[index] != bits2[index])){\n",
    "             H(qs[index]);\n",
    "             set fliped = index;\n",
    "             if(bits1[index]){\n",
    "                 set first_one = 1;\n",
    "             }else{\n",
    "                 set first_one = 2;\n",
    "             }\n",
    "             set entangled = true;\n",
    "        }elif(entangled and first_one == 1 and (bits1[index] and not(bits2[index]))){\n",
    "            CNOT(qs[fliped] ,qs[index]);           \n",
    "        }elif(entangled and first_one == 1 and (not(bits1[index]) and bits2[index])){\n",
    "            X(qs[fliped]);\n",
    "            CNOT(qs[fliped], qs[index]);\n",
    "            X(qs[fliped]);\n",
    "        }elif(entangled and first_one == 2 and (not(bits1[index]) and bits2[index])){\n",
    "            CNOT(qs[fliped] ,qs[index]); \n",
    "        }elif(entangled and first_one == 2 and (bits1[index] and not(bits2[index]))){\n",
    "            X(qs[fliped]);\n",
    "            CNOT(qs[fliped], qs[index]);\n",
    "            X(qs[fliped]);\n",
    "        }\n",
    "    }\n",
    "}"
   ]
  },
  {
   "cell_type": "markdown",
   "metadata": {},
   "source": [
    "### Task 15*. Superposition of four bit strings.\n",
    "\n",
    "**Inputs:** \n",
    "\n",
    "1. $N$ ($N \\ge 1$) qubits in the $|0 \\dots 0\\rangle$ state.\n",
    "2. Four bit strings of length $N$, represented as `Bool[][]` `bits`. `bits` is an $4 \\times N$ which describes the bit strings as follows: `bits[i]` describes the `i`-th bit string and has $N$ elements. You are guaranteed that all four bit strings will be distinct.\n",
    "\n",
    "**Goal:**  Change the state of the qubits to an equal superposition of the four basis states given by the bit strings.\n",
    "\n",
    "> For example, for $N = 3$ and `bits = [[false, true, false], [true, false, false], [false, false, true], [true, true, false]]` the state required is $\\frac{1}{2}\\big(|010\\rangle + |100\\rangle + |001\\rangle + |110\\rangle\\big)$.\n",
    "\n",
    "<br/>\n",
    "<details>\n",
    "  <summary><b>Need a hint? Click here</b></summary>\n",
    "  Remember that you can allocate extra qubits. If you do, you'll need to return them to the $|0\\rangle$ state before releasing them.\n",
    "</details>"
   ]
  },
  {
   "cell_type": "code",
   "execution_count": 26,
   "metadata": {},
   "outputs": [
    {
     "data": {
      "application/json": "[\"FlatBits\",\"FlipBits\",\"GetBoolFromArray\"]",
      "text/html": [
       "<ul><li>FlatBits</li><li>FlipBits</li><li>GetBoolFromArray</li></ul>"
      ],
      "text/plain": [
       "FlatBits, FlipBits, GetBoolFromArray"
      ]
     },
     "execution_count": 26,
     "metadata": {},
     "output_type": "execute_result"
    }
   ],
   "source": [
    "open Microsoft.Quantum.Arrays;\n",
    "open Microsoft.Quantum.Logical;\n",
    "function FlipBits(Bits : Bool[][]) : Bool[]{\n",
    "    mutable res = new Bool[0];\n",
    "    for(i in 0 .. Length(Bits)-1){\n",
    "        set res += Mapped(Not, Bits[i]);\n",
    "    }\n",
    "    return res;\n",
    "}\n",
    "function FlatBits(Bits : Bool[][]) : Bool[]{\n",
    "    mutable res = new Bool[0];\n",
    "    for(i in 0 .. Length(Bits)-1){\n",
    "        set res += Bits[i];\n",
    "    }\n",
    "    return res;\n",
    "}\n",
    "function GetBoolFromArray(Bits : Bool[] , N : Int ,IndexI : Int, IndexJ : Int) : Bool{\n",
    "    return Bits[IndexI * N + IndexJ];\n",
    "}"
   ]
  },
  {
   "cell_type": "code",
   "execution_count": 28,
   "metadata": {},
   "outputs": [
    {
     "data": {
      "application/json": "[\"IsNumberPresentInArray\"]",
      "text/html": [
       "<ul><li>IsNumberPresentInArray</li></ul>"
      ],
      "text/plain": [
       "IsNumberPresentInArray"
      ]
     },
     "execution_count": 28,
     "metadata": {},
     "output_type": "execute_result"
    }
   ],
   "source": [
    "open Microsoft.Quantum.Arrays;\n",
    "open Microsoft.Quantum.Logical;\n",
    "\n",
    "function IsNumberPresentInArray(n : Int, array : Int[]) : Bool {\n",
    "    return Any(EqualI(_, n), array);\n",
    "}"
   ]
  },
  {
   "cell_type": "code",
   "execution_count": 29,
   "metadata": {},
   "outputs": [
    {
     "data": {
      "application/json": "[\"TestIn\"]",
      "text/html": [
       "<ul><li>TestIn</li></ul>"
      ],
      "text/plain": [
       "TestIn"
      ]
     },
     "execution_count": 29,
     "metadata": {},
     "output_type": "execute_result"
    }
   ],
   "source": [
    "open Microsoft.Quantum.Arrays;\n",
    "open Microsoft.Quantum.Logical;\n",
    "\n",
    "operation TestIn() : Bool[] {\n",
    "    let arr   = [false, true, false, false];\n",
    "    return Mapped(Not, arr);\n",
    "}"
   ]
  },
  {
   "cell_type": "code",
   "execution_count": null,
   "metadata": {},
   "outputs": [],
   "source": [
    "%simulate TestIn"
   ]
  },
  {
   "cell_type": "code",
   "execution_count": 30,
   "metadata": {},
   "outputs": [
    {
     "data": {
      "application/json": "[\"AnotherCut\",\"CountSame\",\"SumTrue\",\"SumTrueA\",\"TestACut\",\"TestBAA\",\"TestCountSame\",\"TestSumTA\"]",
      "text/html": [
       "<ul><li>AnotherCut</li><li>CountSame</li><li>SumTrue</li><li>SumTrueA</li><li>TestACut</li><li>TestBAA</li><li>TestCountSame</li><li>TestSumTA</li></ul>"
      ],
      "text/plain": [
       "AnotherCut, CountSame, SumTrue, SumTrueA, TestACut, TestBAA, TestCountSame, TestSumTA"
      ]
     },
     "execution_count": 30,
     "metadata": {},
     "output_type": "execute_result"
    }
   ],
   "source": [
    "function SumTrue(bits : Bool[][], index : Int) : Int {\n",
    "    mutable res = 0;\n",
    "    for(bindex in 0 .. Length(bits) -1 ){\n",
    "        if(bits[bindex][index]){\n",
    "            set res += 1;\n",
    "        }\n",
    "    }\n",
    "    return res;\n",
    "}\n",
    "function AnotherCut(bits : Bool[][], index : Int) : Bool[]{\n",
    "    mutable res = new Bool[0];\n",
    "    for(bindex in 0 .. Length(bits) -1 ){\n",
    "        set res += [bits[bindex][index]];\n",
    "    }\n",
    "    return res;\n",
    "}\n",
    "\n",
    "function SumTrueA(bits : Bool[]) :Int{\n",
    "    mutable res = 0;\n",
    "    for(bit in bits){\n",
    "        if(bit){\n",
    "            set res += 1;\n",
    "        }\n",
    "    }\n",
    "    return res;\n",
    "}\n",
    "\n",
    "function CountSame(bits : Bool[][], bindex : Int, cdindex : Int[]) : Int{\n",
    "    let bitslen = Length(bits);\n",
    "    mutable count = 0;\n",
    "    mutable same = false;\n",
    "    //let ac = AnotherCut(bits, )\n",
    "    for(i in 0 .. bitslen - 1){\n",
    "        mutable check = false;\n",
    "        for(j in cdindex){\n",
    "            if(bits[bindex][j] != bits[i][j]){\n",
    "                set check = true;\n",
    "            }\n",
    "        }\n",
    "        if(check){\n",
    "            set count += 1;\n",
    "        }\n",
    "    }\n",
    "    return bitslen - count - 1;\n",
    "}\n",
    "\n",
    "\n",
    "/////////////////////// tests\n",
    "operation TestBAA() :  Int{\n",
    "    let bits   = [[false, true, false], [true, true, false], [false, false, true], [true, true, false]];\n",
    "    return SumTrue(bits, 1);\n",
    "}\n",
    "operation TestACut() :  Bool[]{\n",
    "    let bits   = [[false, true, false], [true, true, false], [false, false, true], [true, true, false]];\n",
    "    return AnotherCut(bits, 0);\n",
    "}\n",
    "operation TestSumTA() :  Int{\n",
    "    let bits   = [[false, true, false], [true, true, false], [false, false, true], [true, true, false]];\n",
    "    return SumTrueA(AnotherCut(bits, 0));\n",
    "}\n",
    "\n",
    "operation TestCountSame() :  Int{\n",
    "    let bits   = [[false, true, false], [false, false, false], [false, true, true], [false, true, false]];\n",
    "    return CountSame(bits, 0, [0,1]);\n",
    "}"
   ]
  },
  {
   "cell_type": "code",
   "execution_count": null,
   "metadata": {},
   "outputs": [],
   "source": [
    "%simulate TestCountSame"
   ]
  },
  {
   "cell_type": "code",
   "execution_count": 31,
   "metadata": {},
   "outputs": [
    {
     "data": {
      "application/json": "[\"DistinguishIdexes\"]",
      "text/html": [
       "<ul><li>DistinguishIdexes</li></ul>"
      ],
      "text/plain": [
       "DistinguishIdexes"
      ]
     },
     "execution_count": 31,
     "metadata": {},
     "output_type": "execute_result"
    }
   ],
   "source": [
    "function DistinguishIdexes(bits : Bool[][], bindex : Int) : Int[]{\n",
    "    let qlen = Length(bits[0]);\n",
    "    let bitslen = Length(bits);\n",
    "    mutable cdindex = new Int[0];\n",
    "    mutable countsame = bitslen;\n",
    "    mutable tmpindex = new Int[0];\n",
    "    for(index in 0 .. qlen - 1){\n",
    "        set tmpindex = cdindex + [index];\n",
    "        mutable cs = CountSame(bits, bindex, tmpindex);\n",
    "        if(cs == 0){\n",
    "            // cdindex is the set of indexes to distinguish the superposition\n",
    "            return tmpindex;\n",
    "        }elif(cs == countsame){\n",
    "            // no additional information\n",
    "        }elif(cs < countsame){\n",
    "            // got additional infromation\n",
    "            set cdindex = tmpindex;\n",
    "            set countsame = cs;\n",
    "        }else{\n",
    "            Message(\"Error1\");\n",
    "        }\n",
    "    }\n",
    "    Message(\"Error2\");\n",
    "    return [0];\n",
    "}"
   ]
  },
  {
   "cell_type": "code",
   "execution_count": 44,
   "metadata": {},
   "outputs": [
    {
     "data": {
      "application/json": "[\"DistinguishIdexesT\"]",
      "text/html": [
       "<ul><li>DistinguishIdexesT</li></ul>"
      ],
      "text/plain": [
       "DistinguishIdexesT"
      ]
     },
     "execution_count": 44,
     "metadata": {},
     "output_type": "execute_result"
    }
   ],
   "source": [
    "function DistinguishIdexesT() : Int[]{\n",
    "    let bindex = 0;\n",
    "    let bits   = [[true, true, false], [false, false, false], [false, true, true], [false, true, false]];\n",
    "    let qlen = Length(bits[0]);\n",
    "    let bitslen = Length(bits);\n",
    "    mutable cdindex = new Int[0];\n",
    "    mutable countsame = bitslen;\n",
    "    mutable tmpindex = new Int[0];\n",
    "    for(index in 0 .. qlen - 1){\n",
    "        set tmpindex = cdindex + [index];\n",
    "        mutable cs = CountSame(bits, bindex, tmpindex);\n",
    "        if(cs == 0){\n",
    "            // cdindex is the set of indexes to distinguish the superposition\n",
    "            return tmpindex;\n",
    "        }elif(cs == countsame){\n",
    "            // no additional information\n",
    "        }elif(cs < countsame){\n",
    "            // got additional infromation\n",
    "            set cdindex = tmpindex;\n",
    "            set countsame = cs;\n",
    "        }else{\n",
    "            Message(\"Error1\");\n",
    "        }\n",
    "    }\n",
    "    Message(\"Error2\");\n",
    "    return [0];\n",
    "}"
   ]
  },
  {
   "cell_type": "code",
   "execution_count": 45,
   "metadata": {},
   "outputs": [
    {
     "data": {
      "application/json": "[0]",
      "text/html": [
       "<ul><li>0</li></ul>"
      ],
      "text/plain": [
       "0"
      ]
     },
     "execution_count": 45,
     "metadata": {},
     "output_type": "execute_result"
    }
   ],
   "source": [
    "%simulate DistinguishIdexesT"
   ]
  },
  {
   "cell_type": "code",
   "execution_count": 32,
   "metadata": {},
   "outputs": [
    {
     "name": "stdout",
     "output_type": "stream",
     "text": [
      "The desired state for bits = [[False,False],[False,True],[True,False],[True,True]]\n",
      "# wave function for qubits with ids (least to most significant): 0;1\n",
      "∣0❭:\t 0.500000 +  0.000000 i\t == \t******               [ 0.250000 ]     --- [  0.00000 rad ]\n",
      "∣1❭:\t 0.500000 +  0.000000 i\t == \t******               [ 0.250000 ]     --- [  0.00000 rad ]\n",
      "∣2❭:\t 0.500000 +  0.000000 i\t == \t******               [ 0.250000 ]     --- [  0.00000 rad ]\n",
      "∣3❭:\t 0.500000 +  0.000000 i\t == \t******               [ 0.250000 ]     --- [  0.00000 rad ]\n",
      "The actual state:\n",
      "# wave function for qubits with ids (least to most significant): 0;1\n",
      "∣0❭:\t 0.500000 +  0.000000 i\t == \t******               [ 0.250000 ]     --- [  0.00000 rad ]\n",
      "∣1❭:\t 0.500000 +  0.000000 i\t == \t*****                [ 0.250000 ]     --- [  0.00000 rad ]\n",
      "∣2❭:\t 0.500000 +  0.000000 i\t == \t*****                [ 0.250000 ]     --- [  0.00000 rad ]\n",
      "∣3❭:\t 0.500000 +  0.000000 i\t == \t*****                [ 0.250000 ]     --- [  0.00000 rad ]\n",
      "Test case passed\n",
      "Testing on hidden test cases...\n"
     ]
    },
    {
     "name": "stderr",
     "output_type": "stream",
     "text": [
      "Qubit in invalid state. Expecting: Zero\n",
      "\tExpected:\t0\n",
      "\tActual:\t0.043181301064903574\n",
      "Try again!\n"
     ]
    }
   ],
   "source": [
    "%kata T15_FourBitstringSuperposition_Test\n",
    "open Microsoft.Quantum.Arrays;\n",
    "open Microsoft.Quantum.Convert;\n",
    "open Microsoft.Quantum.Math;\n",
    "// open Microsoft.Quantum.Diagnostics;\n",
    "\n",
    "operation FourBitstringSuperposition (qs : Qubit[], bits : Bool[][]) : Unit {\n",
    "// using(qs = Qubit[4]){\n",
    "// let bits   = [[false, true, false, false], [false, true, false, true], [false, true, true, false], [true, true, false, false]];\n",
    "    let qlen = Length(bits[0]);\n",
    "    let bitslen = Length(bits);\n",
    "    \n",
    "    mutable diffbits = [DistinguishIdexes(bits, 0)];\n",
    "    for(i in 1 .. bitslen - 1){\n",
    "        set diffbits += [DistinguishIdexes(bits, i)];\n",
    "    }\n",
    "    mutable max_len = 0;\n",
    "    for(i in 0 .. bitslen - 1){\n",
    "        if(max_len < Length(diffbits[i])){\n",
    "            set max_len = Length(diffbits[i]);\n",
    "        }\n",
    "    }\n",
    "    \n",
    "    // controlled でEntangleさせる割合の分母\n",
    "    mutable true_count = 0.0;\n",
    "    for(i in 0 .. bitslen -1){\n",
    "        if(bits[i][diffbits[0][0]]){\n",
    "            set true_count += 1.0;\n",
    "        }\n",
    "    }\n",
    "    // 最初の差異bitでentangle \n",
    "    mutable theta = 2.0 * ArcTan2(true_count, IntAsDouble(bitslen) - true_count);\n",
    "    Ry(theta, qs[diffbits[0][0]]);\n",
    "    \n",
    "    // 最初の差異bitがtrue側をsplitするか、false側をsplitするか \n",
    "    // :true_count = 1 -> false側\n",
    "    //  true_count = 3 -> true側\n",
    "    //  true_count = 2 -> ひとまずtrue側、その後 false側\n",
    "    mutable popu_count2 = 0.0;\n",
    "    mutable true_count2 = 0.0;\n",
    "    if(true_count == 2.0){\n",
    "        set popu_count2 = 2.0;\n",
    "        set true_count2 = 1.0;\n",
    "    }else{\n",
    "        for(i in 0 .. bitslen - 1){\n",
    "            if(Length(diffbits[i]) > 1){\n",
    "                if(( true_count == 1.0 and not(bits[i][0]) ) or ( true_count == 3.0 and bits[i][0] )){  // \n",
    "                    set popu_count2 += 1.0;\n",
    "                }\n",
    "                if(bits[i][1]){\n",
    "                    set true_count2 += 1.0;\n",
    "                }\n",
    "            }\n",
    "        }\n",
    "    }\n",
    "    mutable once_flag = true;\n",
    "    mutable bindex_of_two_diffbits = 0;\n",
    "    for(i in 0 .. bitslen -1){ // まだ一つに分離されていないもののbindexを把握\n",
    "        if(Length(diffbits[i]) == 2 and once_flag){お\n",
    "            set bindex_of_two_diffbits = i;\n",
    "            set once_flag = false;\n",
    "        }\n",
    "    }    \n",
    "    set theta = 2.0 * ArcTan2(true_count2, popu_count2 - true_count2);\n",
    "    if(true_count == 1.0){\n",
    "        X(qs[diffbits[0][0]]); // false 側をスプリットするため\n",
    "    }\n",
    "    Controlled Ry([qs[diffbits[0][0]]], (theta , qs[diffbits[bindex_of_two_diffbits][1]]));\n",
    "    if(true_count == 1.0){\n",
    "        X(qs[diffbits[0][0]]); // false 側をスプリットするため\n",
    "    }\n",
    "    if(max_len == 2){\n",
    "        X(qs[diffbits[0][0]]);\n",
    "        Controlled Ry([qs[diffbits[0][0]]], (theta , qs[diffbits[bindex_of_two_diffbits][1]]));\n",
    "        X(qs[diffbits[0][0]]);\n",
    "    }else{\n",
    "        set once_flag = true;\n",
    "        mutable bo3dbits = 0;\n",
    "        for(i in 0 .. bitslen -1){ // まだ一つに分離されていないもののbindexを把握\n",
    "            if(Length(diffbits[i]) == 3 and once_flag){\n",
    "                set bo3dbits = i;\n",
    "                set once_flag = false;\n",
    "            }\n",
    "        }\n",
    "        set theta = 2.0 * ArcTan2(1.0, 1.0);\n",
    "        if(not(bits[bo3dbits][0])){X(qs[diffbits[bo3dbits][0]]);}\n",
    "        if(not(bits[bo3dbits][1])){X(qs[diffbits[bo3dbits][1]]);}\n",
    "        Controlled Ry([qs[diffbits[bo3dbits][0]], qs[diffbits[bo3dbits][1]]], (theta, qs[diffbits[bo3dbits][2]]));\n",
    "        if(not(bits[bo3dbits][0])){X(qs[diffbits[bo3dbits][0]]);}\n",
    "        if(not(bits[bo3dbits][1])){X(qs[diffbits[bo3dbits][1]]);}\n",
    "    }\n",
    "    \n",
    "    ////  各bindexごとのControlに基づいて必要な部分をFlip\n",
    "    for(bindex in 0 .. bitslen - 1){\n",
    "        if(Length(diffbits[bindex]) == 1){\n",
    "            for(j in 0 .. qlen -1){\n",
    "                if(bits[bindex][j] and not(IsNumberPresentInArray(j,diffbits[bindex]))){\n",
    "                    if(not(bits[bindex][0])){X(qs[diffbits[bindex][0]]);}\n",
    "                    Controlled X([qs[diffbits[bindex][0]]], qs[j]);\n",
    "                    if(not(bits[bindex][0])){X(qs[diffbits[bindex][0]]);}\n",
    "                }\n",
    "            }\n",
    "        }elif(Length(diffbits[bindex]) == 2){\n",
    "            for(j in 0 .. qlen -1){\n",
    "                if(bits[bindex][j] and not(IsNumberPresentInArray(j,diffbits[bindex]))){\n",
    "                    if(not(bits[bindex][0])){X(qs[diffbits[bindex][0]]);}\n",
    "                    if(not(bits[bindex][1])){X(qs[diffbits[bindex][1]]);}\n",
    "                    Controlled X([qs[diffbits[bindex][0]], qs[diffbits[bindex][1]]], qs[j]);\n",
    "                    if(not(bits[bindex][0])){X(qs[diffbits[bindex][0]]);}\n",
    "                    if(not(bits[bindex][1])){X(qs[diffbits[bindex][1]]);}\n",
    "                }\n",
    "            }\n",
    "        }else{\n",
    "            for(j in 0 .. qlen -1){\n",
    "                if(bits[bindex][j] and not(IsNumberPresentInArray(j,diffbits[bindex]))){\n",
    "                    if(not(bits[bindex][0])){X(qs[diffbits[bindex][0]]);}\n",
    "                    if(not(bits[bindex][1])){X(qs[diffbits[bindex][1]]);}\n",
    "                    if(not(bits[bindex][2])){X(qs[diffbits[bindex][2]]);}\n",
    "                    Controlled X([qs[diffbits[bindex][0]], qs[diffbits[bindex][1]], qs[diffbits[bindex][2]]], qs[j]);\n",
    "                    if(not(bits[bindex][0])){X(qs[diffbits[bindex][0]]);}\n",
    "                    if(not(bits[bindex][1])){X(qs[diffbits[bindex][1]]);}\n",
    "                    if(not(bits[bindex][2])){X(qs[diffbits[bindex][2]]);}\n",
    "                }\n",
    "            }\n",
    "        }\n",
    "    }\n",
    "    \n",
    "    //return diffbits;\n",
    "}"
   ]
  },
  {
   "cell_type": "code",
   "execution_count": 46,
   "metadata": {},
   "outputs": [
    {
     "data": {
      "application/json": "[\"FourBitstringSuperpositionT\"]",
      "text/html": [
       "<ul><li>FourBitstringSuperpositionT</li></ul>"
      ],
      "text/plain": [
       "FourBitstringSuperpositionT"
      ]
     },
     "execution_count": 46,
     "metadata": {},
     "output_type": "execute_result"
    }
   ],
   "source": [
    "\n",
    "open Microsoft.Quantum.Arrays;\n",
    "open Microsoft.Quantum.Convert;\n",
    "open Microsoft.Quantum.Math;\n",
    "// open Microsoft.Quantum.Diagnostics;\n",
    "\n",
    "operation FourBitstringSuperpositionT () : Int[][] {\n",
    "// using(qs = Qubit[4]){\n",
    "let bits   = [[false, true, false, false], [false, true, false, true], [false, true, true, false], [true, true, false, false]];\n",
    "    let qlen = Length(bits[0]);\n",
    "    let bitslen = Length(bits);\n",
    "    \n",
    "    mutable diffbits = [DistinguishIdexes(bits, 0)];\n",
    "    for(i in 1 .. bitslen - 1){\n",
    "        set diffbits += [DistinguishIdexes(bits, i)];\n",
    "    }\n",
    "    mutable max_len = 0;\n",
    "    for(i in 0 .. bitslen - 1){\n",
    "        if(max_len < Length(diffbits[i])){\n",
    "            set max_len = Length(diffbits[i]);\n",
    "        }\n",
    "    }\n",
    "    return diffbits;\n",
    "    \n",
    "}"
   ]
  },
  {
   "cell_type": "code",
   "execution_count": 47,
   "metadata": {},
   "outputs": [
    {
     "data": {
      "application/json": "[[0,2,3],[0,2,3],[0,2],[0]]",
      "text/html": [
       "<ul><li>[0,2,3]</li><li>[0,2,3]</li><li>[0,2]</li><li>[0]</li></ul>"
      ],
      "text/plain": [
       "[0,2,3], [0,2,3], [0,2], [0]"
      ]
     },
     "execution_count": 47,
     "metadata": {},
     "output_type": "execute_result"
    }
   ],
   "source": [
    "%simulate FourBitstringSuperpositionT"
   ]
  },
  {
   "cell_type": "code",
   "execution_count": 37,
   "metadata": {},
   "outputs": [
    {
     "name": "stdout",
     "output_type": "stream",
     "text": [
      "The desired state for bits = [[False,False],[False,True],[True,False],[True,True]]\n",
      "# wave function for qubits with ids (least to most significant): 0;1\n",
      "∣0❭:\t 0.500000 +  0.000000 i\t == \t******               [ 0.250000 ]     --- [  0.00000 rad ]\n",
      "∣1❭:\t 0.500000 +  0.000000 i\t == \t******               [ 0.250000 ]     --- [  0.00000 rad ]\n",
      "∣2❭:\t 0.500000 +  0.000000 i\t == \t******               [ 0.250000 ]     --- [  0.00000 rad ]\n",
      "∣3❭:\t 0.500000 +  0.000000 i\t == \t******               [ 0.250000 ]     --- [  0.00000 rad ]\n",
      "The actual state:\n",
      "# wave function for qubits with ids (least to most significant): 0;1\n",
      "∣0❭:\t 0.500000 +  0.000000 i\t == \t******               [ 0.250000 ]     --- [  0.00000 rad ]\n",
      "∣1❭:\t 0.500000 +  0.000000 i\t == \t******               [ 0.250000 ]     --- [  0.00000 rad ]\n",
      "∣2❭:\t 0.500000 +  0.000000 i\t == \t******               [ 0.250000 ]     --- [  0.00000 rad ]\n",
      "∣3❭:\t 0.500000 +  0.000000 i\t == \t******               [ 0.250000 ]     --- [  0.00000 rad ]\n",
      "Test case passed\n",
      "Testing on hidden test cases...\n"
     ]
    },
    {
     "data": {
      "application/json": "\"Success!\"",
      "text/plain": [
       "Success!"
      ]
     },
     "execution_count": 37,
     "metadata": {},
     "output_type": "execute_result"
    }
   ],
   "source": [
    "%kata T15_FourBitstringSuperposition_Test\n",
    "\n",
    "operation FourBitstringSuperposition (qs : Qubit[], bits : Bool[][]) : Unit {\n",
    "    let N = Length(qs);\n",
    "\n",
    "    using (anc = Qubit[2]) {\n",
    "        // Put two ancillas into equal superposition of 2-qubit basis states\n",
    "        ApplyToEachA(H, anc);\n",
    "\n",
    "        // Set up the right pattern on the main qubits with control on ancillas\n",
    "        for (i in 0 .. 3) {\n",
    "            for (j in 0 .. N - 1) {\n",
    "                if ((bits[i])[j]) {\n",
    "                    (ControlledOnInt(i, X))(anc, qs[j]);\n",
    "                }\n",
    "            }\n",
    "        }\n",
    "\n",
    "        // Uncompute the ancillas, using patterns on main qubits as control\n",
    "        for (i in 0 .. 3) {\n",
    "            if (i == 1 or i == 3) {\n",
    "                (ControlledOnBitString(bits[i], X))(qs, anc[0]);\n",
    "            }\n",
    "            if (i == 2 or i == 3) {\n",
    "                (ControlledOnBitString(bits[i], X))(qs, anc[1]);\n",
    "            }\n",
    "        }\n",
    "    }\n",
    "}\n"
   ]
  },
  {
   "cell_type": "markdown",
   "metadata": {},
   "source": [
    "### Task 16**. W state on $2^k$ qubits.\n",
    "\n",
    "**Input:** $N = 2^k$ qubits in the $|0 \\dots 0\\rangle$ state.\n",
    "\n",
    "**Goal:**  Change the state of the qubits to the [W state](https://en.wikipedia.org/wiki/W_state) - an equal superposition of $N$ basis states on $N$ qubits which have Hamming weight of 1.\n",
    "\n",
    "> For example, for $N = 4$ the required state is $\\frac{1}{2}\\big(|1000\\rangle + |0100\\rangle + |0010\\rangle + |0001\\rangle\\big)$.\n",
    "\n",
    "<br/>\n",
    "<details>\n",
    "  <summary><b>Need a hint? Click here</b></summary>\n",
    "  You can use Controlled modifier to perform arbitrary controlled gates.\n",
    "</details>"
   ]
  },
  {
   "cell_type": "code",
   "execution_count": 116,
   "metadata": {},
   "outputs": [
    {
     "name": "stdout",
     "output_type": "stream",
     "text": [
      "The desired state for N = 1\n",
      "# wave function for qubits with ids (least to most significant): 0\n",
      "∣0❭:\t 0.000000 +  0.000000 i\t == \t                     [ 0.000000 ]                   \n",
      "∣1❭:\t 1.000000 +  0.000000 i\t == \t******************** [ 1.000000 ]     --- [  0.00000 rad ]\n",
      "The actual state:\n",
      "# wave function for qubits with ids (least to most significant): 0\n",
      "∣0❭:\t 0.000000 +  0.000000 i\t == \t                     [ 0.000000 ]                   \n",
      "∣1❭:\t 1.000000 +  0.000000 i\t == \t******************** [ 1.000000 ]     --- [  0.00000 rad ]\n",
      "Test case passed\n",
      "The desired state for N = 2\n",
      "# wave function for qubits with ids (least to most significant): 0;1\n",
      "∣0❭:\t 0.000000 +  0.000000 i\t == \t                     [ 0.000000 ]                   \n",
      "∣1❭:\t 0.707107 +  0.000000 i\t == \t***********          [ 0.500000 ]     --- [  0.00000 rad ]\n",
      "∣2❭:\t 0.707107 +  0.000000 i\t == \t***********          [ 0.500000 ]     --- [  0.00000 rad ]\n",
      "∣3❭:\t 0.000000 +  0.000000 i\t == \t                     [ 0.000000 ]                   \n",
      "The actual state:\n",
      "# wave function for qubits with ids (least to most significant): 0;1\n",
      "∣0❭:\t 0.000000 +  0.000000 i\t == \t                     [ 0.000000 ]                   \n",
      "∣1❭:\t 0.707107 +  0.000000 i\t == \t***********          [ 0.500000 ]     --- [  0.00000 rad ]\n",
      "∣2❭:\t 0.707107 +  0.000000 i\t == \t***********          [ 0.500000 ]     --- [  0.00000 rad ]\n",
      "∣3❭:\t 0.000000 +  0.000000 i\t == \t                     [ 0.000000 ]                   \n",
      "Test case passed\n",
      "Testing on hidden test cases...\n"
     ]
    },
    {
     "data": {
      "application/json": "\"Success!\"",
      "text/plain": [
       "Success!"
      ]
     },
     "execution_count": 116,
     "metadata": {},
     "output_type": "execute_result"
    }
   ],
   "source": [
    "%kata T16_WState_PowerOfTwo_Test\n",
    "\n",
    "open Microsoft.Quantum.Math;\n",
    "open Microsoft.Quantum.Convert;\n",
    "open Microsoft.Quantum.Diagnostics;\n",
    "open Microsoft.Quantum.Arrays;\n",
    "\n",
    "operation WState_PowerOfTwo (qs : Qubit[]) : Unit {\n",
    "    // ...\n",
    "    let N = Length(qs);\n",
    "    let k = Floor(Lg(IntAsDouble(N)));\n",
    "    \n",
    "    using (anc = Qubit[k]) {\n",
    "        ApplyToEachA(H, anc);\n",
    "        for (i in 0 .. N - 1) {\n",
    "            (ControlledOnInt(i, X))(anc, qs[i]);\n",
    "        }\n",
    "        \n",
    "        for (j in 0 .. N-1){\n",
    "            mutable ancb = IntAsBoolArray(j, k);\n",
    "            mutable index = 0;\n",
    "            for(m in ancb){\n",
    "                    if(m){\n",
    "                        //CNOT(qs[j] ,anc[index]);\n",
    "                        (ControlledOnInt(2^j, X))(qs,anc[index]);\n",
    "                    }\n",
    "                    set index += 1;\n",
    "            }\n",
    "            //Reset(anc[j]);\n",
    "        }\n",
    "    }   \n",
    "}"
   ]
  },
  {
   "cell_type": "code",
   "execution_count": 77,
   "metadata": {},
   "outputs": [
    {
     "data": {
      "application/json": "[\"testIntAsBoolArray\"]",
      "text/html": [
       "<ul><li>testIntAsBoolArray</li></ul>"
      ],
      "text/plain": [
       "testIntAsBoolArray"
      ]
     },
     "execution_count": 77,
     "metadata": {},
     "output_type": "execute_result"
    }
   ],
   "source": [
    "open Microsoft.Quantum.Convert;\n",
    "open Microsoft.Quantum.Diagnostics;\n",
    "\n",
    "function testIntAsBoolArray(): Bool[]{\n",
    "    let j = 1;\n",
    "    let k = 3;\n",
    "    return IntAsBoolArray(j, k);\n",
    "}"
   ]
  },
  {
   "cell_type": "code",
   "execution_count": 66,
   "metadata": {},
   "outputs": [
    {
     "data": {
      "application/json": "[false,false,true]",
      "text/html": [
       "<ul><li>False</li><li>False</li><li>True</li></ul>"
      ],
      "text/plain": [
       "False, False, True"
      ]
     },
     "execution_count": 66,
     "metadata": {},
     "output_type": "execute_result"
    }
   ],
   "source": [
    "%simulate testIntAsBoolArray"
   ]
  },
  {
   "cell_type": "markdown",
   "metadata": {},
   "source": [
    "### Task 17**. W state on an arbitrary number of qubits.\n",
    "\n",
    "**Input:** $N$ qubits in the $|0 \\dots 0\\rangle$ state ($N$ is not necessarily a power of 2).\n",
    "\n",
    "**Goal:**  Change the state of the qubits to the [W state](https://en.wikipedia.org/wiki/W_state) - an equal superposition of $N$ basis states on $N$ qubits which have Hamming weight of 1.\n",
    "\n",
    "> For example, for $N = 3$ the required state is $\\frac{1}{\\sqrt{3}}\\big(|100\\rangle + |010\\rangle + |001\\rangle\\big)$.\n",
    "\n",
    "<br/>\n",
    "<details>\n",
    "  <summary><b>Need a hint? Click here</b></summary>\n",
    "  You can modify the signature of the given operation to specify its controlled specialization.\n",
    "</details>"
   ]
  },
  {
   "cell_type": "code",
   "execution_count": null,
   "metadata": {},
   "outputs": [],
   "source": [
    "open Microsoft.Quantum.Arrays;\n",
    "open Microsoft.Quantum.Convert;\n",
    "open Microsoft.Quantum.Math;\n",
    "// open Microsoft.Quantum.Diagnostics;\n",
    "\n",
    "function DistinguishBitsArray(Bool[][]) : Int[][] {\n",
    "\n",
    "//let bits   = [[false, true, false, false], [false, true, false, true], [false, true, true, false], [true, true, false, false]];\n",
    "    let qlen = Length(bits[0]);\n",
    "    let bitslen = Length(bits);\n",
    "    \n",
    "    mutable diffbits = [DistinguishIdexes(bits, 0)];\n",
    "    for(i in 1 .. bitslen - 1){\n",
    "        set diffbits += [DistinguishIdexes(bits, i)];\n",
    "    }\n",
    "    mutable max_len = 0;\n",
    "    for(i in 0 .. bitslen - 1){\n",
    "        if(max_len < Length(diffbits[i])){\n",
    "            set max_len = Length(diffbits[i]);\n",
    "        }\n",
    "    }\n",
    "    return diffbits;\n",
    "    \n",
    "}"
   ]
  },
  {
   "cell_type": "code",
   "execution_count": 4,
   "metadata": {},
   "outputs": [
    {
     "name": "stdout",
     "output_type": "stream",
     "text": [
      "The desired state for N = 1\n",
      "# wave function for qubits with ids (least to most significant): 0\n",
      "∣0❭:\t 0.000000 +  0.000000 i\t == \t                     [ 0.000000 ]                   \n",
      "∣1❭:\t 1.000000 +  0.000000 i\t == \t******************** [ 1.000000 ]     --- [  0.00000 rad ]\n",
      "The actual state:\n",
      "# wave function for qubits with ids (least to most significant): 0\n",
      "∣0❭:\t 0.000000 +  0.000000 i\t == \t                     [ 0.000000 ]                   \n",
      "∣1❭:\t 1.000000 +  0.000000 i\t == \t******************** [ 1.000000 ]     --- [  0.00000 rad ]\n",
      "Test case passed\n",
      "The desired state for N = 2\n",
      "# wave function for qubits with ids (least to most significant): 0;1\n",
      "∣0❭:\t 0.000000 +  0.000000 i\t == \t                     [ 0.000000 ]                   \n",
      "∣1❭:\t 0.707107 +  0.000000 i\t == \t***********          [ 0.500000 ]     --- [  0.00000 rad ]\n",
      "∣2❭:\t 0.707107 +  0.000000 i\t == \t***********          [ 0.500000 ]     --- [  0.00000 rad ]\n",
      "∣3❭:\t 0.000000 +  0.000000 i\t == \t                     [ 0.000000 ]                   \n",
      "The actual state:\n",
      "# wave function for qubits with ids (least to most significant): 0;1\n",
      "∣0❭:\t 0.000000 +  0.000000 i\t == \t                     [ 0.000000 ]                   \n",
      "∣1❭:\t 0.707107 +  0.000000 i\t == \t***********          [ 0.500000 ]     --- [  0.00000 rad ]\n",
      "∣2❭:\t 0.707107 +  0.000000 i\t == \t***********          [ 0.500000 ]     --- [  0.00000 rad ]\n",
      "∣3❭:\t 0.000000 +  0.000000 i\t == \t                     [ 0.000000 ]                   \n",
      "Test case passed\n",
      "Testing on hidden test cases...\n"
     ]
    },
    {
     "name": "stderr",
     "output_type": "stream",
     "text": [
      "Qubit in invalid state. Expecting: Zero\n",
      "\tExpected:\t0\n",
      "\tActual:\t0.06666666666666667\n",
      "Try again!\n"
     ]
    }
   ],
   "source": [
    "%kata T17_WState_Arbitrary_Test\n",
    "\n",
    "open Microsoft.Quantum.Convert;\n",
    "open Microsoft.Quantum.Math;\n",
    "open Microsoft.Quantum.Measurement;\n",
    "\n",
    "operation WState_Arbitrary (qs : Qubit[]) : Unit {\n",
    "    // ...\n",
    "    let N = Length(qs);\n",
    "    mutable k = Ceiling(Lg(IntAsDouble(N)));\n",
    "    let N2 = 2 ^ k;\n",
    "    \n",
    "    using (anc = Qubit[k]){  // task 16 と同じ使い方をする ancilla\n",
    "        using (anc2 = Qubit()){\n",
    "            ApplyToEachA(H, anc);\n",
    "\n",
    "            for (i in 0 .. N2 - 1) {\n",
    "                if(i <= N-1){\n",
    "                    (ControlledOnInt(i, X))(anc, qs[i]);\n",
    "                    (ControlledOnInt(i, X))(anc, anc2);\n",
    "                }else{\n",
    "                    (ControlledOnInt(i, X))(anc, qs[i - N]);\n",
    "                    (ControlledOnInt(i, X))(anc, qs[N-1]);                    \n",
    "                }\n",
    "            }\n",
    "            // Reset ancilla \n",
    "            for (i in 0 .. N2 - 1){\n",
    "                mutable ancb = IntAsBoolArray(i, k);\n",
    "                mutable index = 0;\n",
    "                for(m in ancb){\n",
    "                        if(m){\n",
    "                            if(i <= N-1){\n",
    "                                //CNOT(qs[i], anc[index]); -> これだとqs[N-1]が1 のものが多数あるためうまくいかない\n",
    "                                (ControlledOnInt(2^i, X))(qs,anc[index]);\n",
    "                            }else{\n",
    "                                CCNOT(qs[i-N], qs[N-1] ,anc[index]);\n",
    "                            }\n",
    "                        }\n",
    "                        set index += 1;\n",
    "                }\n",
    "            }\n",
    "            let res = MResetZ(anc2);\n",
    "        }\n",
    "    }\n",
    "}"
   ]
  }
 ],
 "metadata": {
  "kernelspec": {
   "display_name": "Q#",
   "language": "qsharp",
   "name": "iqsharp"
  },
  "language_info": {
   "file_extension": ".qs",
   "mimetype": "text/x-qsharp",
   "name": "qsharp",
   "version": "0.4"
  }
 },
 "nbformat": 4,
 "nbformat_minor": 2
}
